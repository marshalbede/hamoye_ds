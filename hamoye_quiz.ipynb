{
 "cells": [
  {
   "cell_type": "code",
   "execution_count": 1,
   "metadata": {},
   "outputs": [],
   "source": [
    "import pandas as pd\n",
    "import numpy as np"
   ]
  },
  {
   "cell_type": "code",
   "execution_count": 3,
   "metadata": {},
   "outputs": [],
   "source": [
    "fuel_df = pd.read_csv(\"fuel_ferc1.csv\")"
   ]
  },
  {
   "cell_type": "code",
   "execution_count": 4,
   "metadata": {},
   "outputs": [
    {
     "data": {
      "text/html": [
       "<div>\n",
       "<style scoped>\n",
       "    .dataframe tbody tr th:only-of-type {\n",
       "        vertical-align: middle;\n",
       "    }\n",
       "\n",
       "    .dataframe tbody tr th {\n",
       "        vertical-align: top;\n",
       "    }\n",
       "\n",
       "    .dataframe thead th {\n",
       "        text-align: right;\n",
       "    }\n",
       "</style>\n",
       "<table border=\"1\" class=\"dataframe\">\n",
       "  <thead>\n",
       "    <tr style=\"text-align: right;\">\n",
       "      <th></th>\n",
       "      <th>record_id</th>\n",
       "      <th>utility_id_ferc1</th>\n",
       "      <th>report_year</th>\n",
       "      <th>plant_name_ferc1</th>\n",
       "      <th>fuel_type_code_pudl</th>\n",
       "      <th>fuel_unit</th>\n",
       "      <th>fuel_qty_burned</th>\n",
       "      <th>fuel_mmbtu_per_unit</th>\n",
       "      <th>fuel_cost_per_unit_burned</th>\n",
       "      <th>fuel_cost_per_unit_delivered</th>\n",
       "      <th>fuel_cost_per_mmbtu</th>\n",
       "    </tr>\n",
       "  </thead>\n",
       "  <tbody>\n",
       "    <tr>\n",
       "      <th>0</th>\n",
       "      <td>f1_fuel_1994_12_1_0_7</td>\n",
       "      <td>1</td>\n",
       "      <td>1994</td>\n",
       "      <td>rockport</td>\n",
       "      <td>coal</td>\n",
       "      <td>ton</td>\n",
       "      <td>5377489.0</td>\n",
       "      <td>16.590</td>\n",
       "      <td>18.59</td>\n",
       "      <td>18.53</td>\n",
       "      <td>1.121</td>\n",
       "    </tr>\n",
       "    <tr>\n",
       "      <th>1</th>\n",
       "      <td>f1_fuel_1994_12_1_0_10</td>\n",
       "      <td>1</td>\n",
       "      <td>1994</td>\n",
       "      <td>rockport total plant</td>\n",
       "      <td>coal</td>\n",
       "      <td>ton</td>\n",
       "      <td>10486945.0</td>\n",
       "      <td>16.592</td>\n",
       "      <td>18.58</td>\n",
       "      <td>18.53</td>\n",
       "      <td>1.120</td>\n",
       "    </tr>\n",
       "    <tr>\n",
       "      <th>2</th>\n",
       "      <td>f1_fuel_1994_12_2_0_1</td>\n",
       "      <td>2</td>\n",
       "      <td>1994</td>\n",
       "      <td>gorgas</td>\n",
       "      <td>coal</td>\n",
       "      <td>ton</td>\n",
       "      <td>2978683.0</td>\n",
       "      <td>24.130</td>\n",
       "      <td>39.72</td>\n",
       "      <td>38.12</td>\n",
       "      <td>1.650</td>\n",
       "    </tr>\n",
       "    <tr>\n",
       "      <th>3</th>\n",
       "      <td>f1_fuel_1994_12_2_0_7</td>\n",
       "      <td>2</td>\n",
       "      <td>1994</td>\n",
       "      <td>barry</td>\n",
       "      <td>coal</td>\n",
       "      <td>ton</td>\n",
       "      <td>3739484.0</td>\n",
       "      <td>23.950</td>\n",
       "      <td>47.21</td>\n",
       "      <td>45.99</td>\n",
       "      <td>1.970</td>\n",
       "    </tr>\n",
       "    <tr>\n",
       "      <th>4</th>\n",
       "      <td>f1_fuel_1994_12_2_0_10</td>\n",
       "      <td>2</td>\n",
       "      <td>1994</td>\n",
       "      <td>chickasaw</td>\n",
       "      <td>gas</td>\n",
       "      <td>mcf</td>\n",
       "      <td>40533.0</td>\n",
       "      <td>1.000</td>\n",
       "      <td>2.77</td>\n",
       "      <td>2.77</td>\n",
       "      <td>2.570</td>\n",
       "    </tr>\n",
       "  </tbody>\n",
       "</table>\n",
       "</div>"
      ],
      "text/plain": [
       "                record_id  utility_id_ferc1  report_year  \\\n",
       "0   f1_fuel_1994_12_1_0_7                 1         1994   \n",
       "1  f1_fuel_1994_12_1_0_10                 1         1994   \n",
       "2   f1_fuel_1994_12_2_0_1                 2         1994   \n",
       "3   f1_fuel_1994_12_2_0_7                 2         1994   \n",
       "4  f1_fuel_1994_12_2_0_10                 2         1994   \n",
       "\n",
       "       plant_name_ferc1 fuel_type_code_pudl fuel_unit  fuel_qty_burned  \\\n",
       "0              rockport                coal       ton        5377489.0   \n",
       "1  rockport total plant                coal       ton       10486945.0   \n",
       "2                gorgas                coal       ton        2978683.0   \n",
       "3                 barry                coal       ton        3739484.0   \n",
       "4             chickasaw                 gas       mcf          40533.0   \n",
       "\n",
       "   fuel_mmbtu_per_unit  fuel_cost_per_unit_burned  \\\n",
       "0               16.590                      18.59   \n",
       "1               16.592                      18.58   \n",
       "2               24.130                      39.72   \n",
       "3               23.950                      47.21   \n",
       "4                1.000                       2.77   \n",
       "\n",
       "   fuel_cost_per_unit_delivered  fuel_cost_per_mmbtu  \n",
       "0                         18.53                1.121  \n",
       "1                         18.53                1.120  \n",
       "2                         38.12                1.650  \n",
       "3                         45.99                1.970  \n",
       "4                          2.77                2.570  "
      ]
     },
     "execution_count": 4,
     "metadata": {},
     "output_type": "execute_result"
    }
   ],
   "source": [
    "fuel_df.head()"
   ]
  },
  {
   "cell_type": "code",
   "execution_count": 18,
   "metadata": {},
   "outputs": [
    {
     "data": {
      "text/html": [
       "<div>\n",
       "<style scoped>\n",
       "    .dataframe tbody tr th:only-of-type {\n",
       "        vertical-align: middle;\n",
       "    }\n",
       "\n",
       "    .dataframe tbody tr th {\n",
       "        vertical-align: top;\n",
       "    }\n",
       "\n",
       "    .dataframe thead th {\n",
       "        text-align: right;\n",
       "    }\n",
       "</style>\n",
       "<table border=\"1\" class=\"dataframe\">\n",
       "  <thead>\n",
       "    <tr style=\"text-align: right;\">\n",
       "      <th></th>\n",
       "      <th>fuel_cost_per_unit_burned</th>\n",
       "      <th>fuel_type_code_pudl</th>\n",
       "    </tr>\n",
       "  </thead>\n",
       "  <tbody>\n",
       "    <tr>\n",
       "      <th>7733</th>\n",
       "      <td>-276.080</td>\n",
       "      <td>waste</td>\n",
       "    </tr>\n",
       "    <tr>\n",
       "      <th>7736</th>\n",
       "      <td>-174.670</td>\n",
       "      <td>waste</td>\n",
       "    </tr>\n",
       "    <tr>\n",
       "      <th>7730</th>\n",
       "      <td>-123.310</td>\n",
       "      <td>waste</td>\n",
       "    </tr>\n",
       "    <tr>\n",
       "      <th>11242</th>\n",
       "      <td>-119.040</td>\n",
       "      <td>other</td>\n",
       "    </tr>\n",
       "    <tr>\n",
       "      <th>2123</th>\n",
       "      <td>-85.760</td>\n",
       "      <td>waste</td>\n",
       "    </tr>\n",
       "    <tr>\n",
       "      <th>...</th>\n",
       "      <td>...</td>\n",
       "      <td>...</td>\n",
       "    </tr>\n",
       "    <tr>\n",
       "      <th>22991</th>\n",
       "      <td>65137.588</td>\n",
       "      <td>nuclear</td>\n",
       "    </tr>\n",
       "    <tr>\n",
       "      <th>21483</th>\n",
       "      <td>69785.215</td>\n",
       "      <td>nuclear</td>\n",
       "    </tr>\n",
       "    <tr>\n",
       "      <th>24577</th>\n",
       "      <td>80459.000</td>\n",
       "      <td>oil</td>\n",
       "    </tr>\n",
       "    <tr>\n",
       "      <th>20719</th>\n",
       "      <td>83538.000</td>\n",
       "      <td>oil</td>\n",
       "    </tr>\n",
       "    <tr>\n",
       "      <th>25127</th>\n",
       "      <td>139358.000</td>\n",
       "      <td>oil</td>\n",
       "    </tr>\n",
       "  </tbody>\n",
       "</table>\n",
       "<p>29523 rows × 2 columns</p>\n",
       "</div>"
      ],
      "text/plain": [
       "       fuel_cost_per_unit_burned fuel_type_code_pudl\n",
       "7733                    -276.080               waste\n",
       "7736                    -174.670               waste\n",
       "7730                    -123.310               waste\n",
       "11242                   -119.040               other\n",
       "2123                     -85.760               waste\n",
       "...                          ...                 ...\n",
       "22991                  65137.588             nuclear\n",
       "21483                  69785.215             nuclear\n",
       "24577                  80459.000                 oil\n",
       "20719                  83538.000                 oil\n",
       "25127                 139358.000                 oil\n",
       "\n",
       "[29523 rows x 2 columns]"
      ]
     },
     "execution_count": 18,
     "metadata": {},
     "output_type": "execute_result"
    }
   ],
   "source": [
    "# To check the fuel type code has the lowest average fuel cost per unit burned?\n",
    "fuel_df.sort_values(['fuel_cost_per_unit_burned'], ascending=1)[['fuel_cost_per_unit_burned', 'fuel_type_code_pudl']]"
   ]
  },
  {
   "cell_type": "code",
   "execution_count": 23,
   "metadata": {},
   "outputs": [],
   "source": [
    "fuel_mmbtu_per_unit = np.array(fuel_df.fuel_mmbtu_per_unit)"
   ]
  },
  {
   "cell_type": "code",
   "execution_count": 24,
   "metadata": {},
   "outputs": [
    {
     "data": {
      "text/plain": [
       "array([16.59 , 16.592, 24.13 , ...,  1.06 , 16.108,  1.059])"
      ]
     },
     "execution_count": 24,
     "metadata": {},
     "output_type": "execute_result"
    }
   ],
   "source": [
    "fuel_mmbtu_per_unit"
   ]
  },
  {
   "cell_type": "code",
   "execution_count": 26,
   "metadata": {},
   "outputs": [],
   "source": [
    "standard_dev_fuel_mmbtu_per_unit = np.std(fuel_mmbtu_per_unit)"
   ]
  },
  {
   "cell_type": "code",
   "execution_count": 27,
   "metadata": {},
   "outputs": [
    {
     "name": "stdout",
     "output_type": "stream",
     "text": [
      "10.600040781503973\n"
     ]
    }
   ],
   "source": [
    "print(standard_dev_fuel_mmbtu_per_unit)"
   ]
  },
  {
   "cell_type": "code",
   "execution_count": 29,
   "metadata": {},
   "outputs": [],
   "source": [
    "perc_75 = np.percentile(fuel_mmbtu_per_unit, 75)"
   ]
  },
  {
   "cell_type": "code",
   "execution_count": 30,
   "metadata": {},
   "outputs": [
    {
     "data": {
      "text/plain": [
       "17.006"
      ]
     },
     "execution_count": 30,
     "metadata": {},
     "output_type": "execute_result"
    }
   ],
   "source": [
    "perc_75"
   ]
  },
  {
   "cell_type": "code",
   "execution_count": 31,
   "metadata": {},
   "outputs": [
    {
     "data": {
      "text/plain": [
       "utility_id_ferc1                  0.605070\n",
       "report_year                       0.006953\n",
       "fuel_qty_burned                  15.851495\n",
       "fuel_mmbtu_per_unit               4.135217\n",
       "fuel_cost_per_unit_burned        19.787440\n",
       "fuel_cost_per_unit_delivered    105.014227\n",
       "fuel_cost_per_mmbtu             171.675535\n",
       "dtype: float64"
      ]
     },
     "execution_count": 31,
     "metadata": {},
     "output_type": "execute_result"
    }
   ],
   "source": [
    "# dataframe skewness\n",
    "fuel_df.skew(axis=0, skipna=True)"
   ]
  },
  {
   "cell_type": "code",
   "execution_count": 32,
   "metadata": {},
   "outputs": [
    {
     "data": {
      "text/plain": [
       "utility_id_ferc1                    1.088432\n",
       "report_year                        -1.145656\n",
       "fuel_qty_burned                   651.369450\n",
       "fuel_mmbtu_per_unit                55.595695\n",
       "fuel_cost_per_unit_burned         485.255851\n",
       "fuel_cost_per_unit_delivered    11765.054226\n",
       "fuel_cost_per_mmbtu             29489.132594\n",
       "dtype: float64"
      ]
     },
     "execution_count": 32,
     "metadata": {},
     "output_type": "execute_result"
    }
   ],
   "source": [
    "# dataframe kurtosis\n",
    "fuel_df.kurtosis(axis=0, skipna=True)"
   ]
  },
  {
   "cell_type": "code",
   "execution_count": 35,
   "metadata": {},
   "outputs": [
    {
     "data": {
      "text/plain": [
       "record_id                         0\n",
       "utility_id_ferc1                  0\n",
       "report_year                       0\n",
       "plant_name_ferc1                  0\n",
       "fuel_type_code_pudl               0\n",
       "fuel_unit                       180\n",
       "fuel_qty_burned                   0\n",
       "fuel_mmbtu_per_unit               0\n",
       "fuel_cost_per_unit_burned         0\n",
       "fuel_cost_per_unit_delivered      0\n",
       "fuel_cost_per_mmbtu               0\n",
       "dtype: int64"
      ]
     },
     "execution_count": 35,
     "metadata": {},
     "output_type": "execute_result"
    }
   ],
   "source": [
    "# Missing values\n",
    "fuel_df.isna().sum()"
   ]
  },
  {
   "cell_type": "code",
   "execution_count": 39,
   "metadata": {},
   "outputs": [],
   "source": [
    "no_of_rows = fuel_df.shape[0]"
   ]
  },
  {
   "cell_type": "code",
   "execution_count": 42,
   "metadata": {},
   "outputs": [
    {
     "data": {
      "text/plain": [
       "0.609694136774718"
      ]
     },
     "execution_count": 42,
     "metadata": {},
     "output_type": "execute_result"
    }
   ],
   "source": [
    "# calculate percentage of missing values\n",
    "(180/no_of_rows)*100"
   ]
  },
  {
   "cell_type": "code",
   "execution_count": 53,
   "metadata": {},
   "outputs": [
    {
     "data": {
      "text/plain": [
       "dtype('O')"
      ]
     },
     "execution_count": 53,
     "metadata": {},
     "output_type": "execute_result"
    }
   ],
   "source": [
    "# check datatype for fuel_unit: the missing value's container\n",
    "fuel_df.fuel_unit.dtypes"
   ]
  },
  {
   "cell_type": "code",
   "execution_count": 54,
   "metadata": {},
   "outputs": [
    {
     "data": {
      "text/html": [
       "<div>\n",
       "<style scoped>\n",
       "    .dataframe tbody tr th:only-of-type {\n",
       "        vertical-align: middle;\n",
       "    }\n",
       "\n",
       "    .dataframe tbody tr th {\n",
       "        vertical-align: top;\n",
       "    }\n",
       "\n",
       "    .dataframe thead th {\n",
       "        text-align: right;\n",
       "    }\n",
       "</style>\n",
       "<table border=\"1\" class=\"dataframe\">\n",
       "  <thead>\n",
       "    <tr style=\"text-align: right;\">\n",
       "      <th></th>\n",
       "      <th>utility_id_ferc1</th>\n",
       "      <th>report_year</th>\n",
       "      <th>fuel_qty_burned</th>\n",
       "      <th>fuel_mmbtu_per_unit</th>\n",
       "      <th>fuel_cost_per_unit_burned</th>\n",
       "      <th>fuel_cost_per_unit_delivered</th>\n",
       "      <th>fuel_cost_per_mmbtu</th>\n",
       "    </tr>\n",
       "  </thead>\n",
       "  <tbody>\n",
       "    <tr>\n",
       "      <th>utility_id_ferc1</th>\n",
       "      <td>1.000000</td>\n",
       "      <td>0.093323</td>\n",
       "      <td>-0.057447</td>\n",
       "      <td>-0.066946</td>\n",
       "      <td>-0.037863</td>\n",
       "      <td>-0.016414</td>\n",
       "      <td>0.006122</td>\n",
       "    </tr>\n",
       "    <tr>\n",
       "      <th>report_year</th>\n",
       "      <td>0.093323</td>\n",
       "      <td>1.000000</td>\n",
       "      <td>0.012952</td>\n",
       "      <td>-0.110853</td>\n",
       "      <td>0.013599</td>\n",
       "      <td>-0.014043</td>\n",
       "      <td>0.010261</td>\n",
       "    </tr>\n",
       "    <tr>\n",
       "      <th>fuel_qty_burned</th>\n",
       "      <td>-0.057447</td>\n",
       "      <td>0.012952</td>\n",
       "      <td>1.000000</td>\n",
       "      <td>-0.080946</td>\n",
       "      <td>-0.018535</td>\n",
       "      <td>-0.003551</td>\n",
       "      <td>-0.001896</td>\n",
       "    </tr>\n",
       "    <tr>\n",
       "      <th>fuel_mmbtu_per_unit</th>\n",
       "      <td>-0.066946</td>\n",
       "      <td>-0.110853</td>\n",
       "      <td>-0.080946</td>\n",
       "      <td>1.000000</td>\n",
       "      <td>-0.010034</td>\n",
       "      <td>-0.009039</td>\n",
       "      <td>-0.005884</td>\n",
       "    </tr>\n",
       "    <tr>\n",
       "      <th>fuel_cost_per_unit_burned</th>\n",
       "      <td>-0.037863</td>\n",
       "      <td>0.013599</td>\n",
       "      <td>-0.018535</td>\n",
       "      <td>-0.010034</td>\n",
       "      <td>1.000000</td>\n",
       "      <td>0.011007</td>\n",
       "      <td>-0.000437</td>\n",
       "    </tr>\n",
       "    <tr>\n",
       "      <th>fuel_cost_per_unit_delivered</th>\n",
       "      <td>-0.016414</td>\n",
       "      <td>-0.014043</td>\n",
       "      <td>-0.003551</td>\n",
       "      <td>-0.009039</td>\n",
       "      <td>0.011007</td>\n",
       "      <td>1.000000</td>\n",
       "      <td>-0.000109</td>\n",
       "    </tr>\n",
       "    <tr>\n",
       "      <th>fuel_cost_per_mmbtu</th>\n",
       "      <td>0.006122</td>\n",
       "      <td>0.010261</td>\n",
       "      <td>-0.001896</td>\n",
       "      <td>-0.005884</td>\n",
       "      <td>-0.000437</td>\n",
       "      <td>-0.000109</td>\n",
       "      <td>1.000000</td>\n",
       "    </tr>\n",
       "  </tbody>\n",
       "</table>\n",
       "</div>"
      ],
      "text/plain": [
       "                              utility_id_ferc1  report_year  fuel_qty_burned  \\\n",
       "utility_id_ferc1                      1.000000     0.093323        -0.057447   \n",
       "report_year                           0.093323     1.000000         0.012952   \n",
       "fuel_qty_burned                      -0.057447     0.012952         1.000000   \n",
       "fuel_mmbtu_per_unit                  -0.066946    -0.110853        -0.080946   \n",
       "fuel_cost_per_unit_burned            -0.037863     0.013599        -0.018535   \n",
       "fuel_cost_per_unit_delivered         -0.016414    -0.014043        -0.003551   \n",
       "fuel_cost_per_mmbtu                   0.006122     0.010261        -0.001896   \n",
       "\n",
       "                              fuel_mmbtu_per_unit  fuel_cost_per_unit_burned  \\\n",
       "utility_id_ferc1                        -0.066946                  -0.037863   \n",
       "report_year                             -0.110853                   0.013599   \n",
       "fuel_qty_burned                         -0.080946                  -0.018535   \n",
       "fuel_mmbtu_per_unit                      1.000000                  -0.010034   \n",
       "fuel_cost_per_unit_burned               -0.010034                   1.000000   \n",
       "fuel_cost_per_unit_delivered            -0.009039                   0.011007   \n",
       "fuel_cost_per_mmbtu                     -0.005884                  -0.000437   \n",
       "\n",
       "                              fuel_cost_per_unit_delivered  \\\n",
       "utility_id_ferc1                                 -0.016414   \n",
       "report_year                                      -0.014043   \n",
       "fuel_qty_burned                                  -0.003551   \n",
       "fuel_mmbtu_per_unit                              -0.009039   \n",
       "fuel_cost_per_unit_burned                         0.011007   \n",
       "fuel_cost_per_unit_delivered                      1.000000   \n",
       "fuel_cost_per_mmbtu                              -0.000109   \n",
       "\n",
       "                              fuel_cost_per_mmbtu  \n",
       "utility_id_ferc1                         0.006122  \n",
       "report_year                              0.010261  \n",
       "fuel_qty_burned                         -0.001896  \n",
       "fuel_mmbtu_per_unit                     -0.005884  \n",
       "fuel_cost_per_unit_burned               -0.000437  \n",
       "fuel_cost_per_unit_delivered            -0.000109  \n",
       "fuel_cost_per_mmbtu                      1.000000  "
      ]
     },
     "execution_count": 54,
     "metadata": {},
     "output_type": "execute_result"
    }
   ],
   "source": [
    "fuel_df.corr()"
   ]
  },
  {
   "cell_type": "code",
   "execution_count": 55,
   "metadata": {},
   "outputs": [
    {
     "data": {
      "text/plain": [
       "False"
      ]
     },
     "execution_count": 55,
     "metadata": {},
     "output_type": "execute_result"
    }
   ],
   "source": [
    "0.011007 > 0.013599"
   ]
  },
  {
   "cell_type": "code",
   "execution_count": 57,
   "metadata": {},
   "outputs": [
    {
     "data": {
      "text/plain": [
       "True"
      ]
     },
     "execution_count": 57,
     "metadata": {},
     "output_type": "execute_result"
    }
   ],
   "source": [
    "-0.000437 > -0.037863"
   ]
  },
  {
   "cell_type": "code",
   "execution_count": 62,
   "metadata": {},
   "outputs": [],
   "source": [
    "highest_average = fuel_df.fuel_cost_per_unit_delivered.max()"
   ]
  },
  {
   "cell_type": "code",
   "execution_count": 66,
   "metadata": {},
   "outputs": [
    {
     "data": {
      "text/html": [
       "<div>\n",
       "<style scoped>\n",
       "    .dataframe tbody tr th:only-of-type {\n",
       "        vertical-align: middle;\n",
       "    }\n",
       "\n",
       "    .dataframe tbody tr th {\n",
       "        vertical-align: top;\n",
       "    }\n",
       "\n",
       "    .dataframe thead th {\n",
       "        text-align: right;\n",
       "    }\n",
       "</style>\n",
       "<table border=\"1\" class=\"dataframe\">\n",
       "  <thead>\n",
       "    <tr style=\"text-align: right;\">\n",
       "      <th></th>\n",
       "      <th>record_id</th>\n",
       "      <th>utility_id_ferc1</th>\n",
       "      <th>report_year</th>\n",
       "      <th>plant_name_ferc1</th>\n",
       "      <th>fuel_type_code_pudl</th>\n",
       "      <th>fuel_unit</th>\n",
       "      <th>fuel_qty_burned</th>\n",
       "      <th>fuel_mmbtu_per_unit</th>\n",
       "      <th>fuel_cost_per_unit_burned</th>\n",
       "      <th>fuel_cost_per_unit_delivered</th>\n",
       "      <th>fuel_cost_per_mmbtu</th>\n",
       "    </tr>\n",
       "  </thead>\n",
       "  <tbody>\n",
       "    <tr>\n",
       "      <th>3564</th>\n",
       "      <td>f1_fuel_1997_12_9_0_8</td>\n",
       "      <td>9</td>\n",
       "      <td>1997</td>\n",
       "      <td>peach bt 2&amp;3</td>\n",
       "      <td>nuclear</td>\n",
       "      <td>gramsU</td>\n",
       "      <td>210474.0</td>\n",
       "      <td>0.000065</td>\n",
       "      <td>37.847</td>\n",
       "      <td>7964521.000</td>\n",
       "      <td>0.578</td>\n",
       "    </tr>\n",
       "    <tr>\n",
       "      <th>3244</th>\n",
       "      <td>f1_fuel_1996_12_9_0_8</td>\n",
       "      <td>9</td>\n",
       "      <td>1996</td>\n",
       "      <td>peach bt 2&amp;3</td>\n",
       "      <td>nuclear</td>\n",
       "      <td>gramsU</td>\n",
       "      <td>211407.0</td>\n",
       "      <td>0.000065</td>\n",
       "      <td>36.865</td>\n",
       "      <td>7793482.000</td>\n",
       "      <td>0.145</td>\n",
       "    </tr>\n",
       "    <tr>\n",
       "      <th>3565</th>\n",
       "      <td>f1_fuel_1997_12_9_0_11</td>\n",
       "      <td>9</td>\n",
       "      <td>1997</td>\n",
       "      <td>salem 1&amp;2</td>\n",
       "      <td>nuclear</td>\n",
       "      <td>gramsU</td>\n",
       "      <td>36919.0</td>\n",
       "      <td>0.000056</td>\n",
       "      <td>61.100</td>\n",
       "      <td>2255688.000</td>\n",
       "      <td>1.087</td>\n",
       "    </tr>\n",
       "    <tr>\n",
       "      <th>3245</th>\n",
       "      <td>f1_fuel_1996_12_9_0_14</td>\n",
       "      <td>9</td>\n",
       "      <td>1996</td>\n",
       "      <td>hope creek 1</td>\n",
       "      <td>nuclear</td>\n",
       "      <td>gramsU</td>\n",
       "      <td>58795.0</td>\n",
       "      <td>0.000065</td>\n",
       "      <td>35.964</td>\n",
       "      <td>2114508.000</td>\n",
       "      <td>0.095</td>\n",
       "    </tr>\n",
       "    <tr>\n",
       "      <th>3566</th>\n",
       "      <td>f1_fuel_1997_12_9_0_14</td>\n",
       "      <td>9</td>\n",
       "      <td>1997</td>\n",
       "      <td>hope creek 1</td>\n",
       "      <td>nuclear</td>\n",
       "      <td>gramsU</td>\n",
       "      <td>52526.0</td>\n",
       "      <td>0.000066</td>\n",
       "      <td>39.660</td>\n",
       "      <td>1942979.000</td>\n",
       "      <td>0.560</td>\n",
       "    </tr>\n",
       "    <tr>\n",
       "      <th>...</th>\n",
       "      <td>...</td>\n",
       "      <td>...</td>\n",
       "      <td>...</td>\n",
       "      <td>...</td>\n",
       "      <td>...</td>\n",
       "      <td>...</td>\n",
       "      <td>...</td>\n",
       "      <td>...</td>\n",
       "      <td>...</td>\n",
       "      <td>...</td>\n",
       "      <td>...</td>\n",
       "    </tr>\n",
       "    <tr>\n",
       "      <th>7733</th>\n",
       "      <td>f1_fuel_2000_12_194_3_3</td>\n",
       "      <td>194</td>\n",
       "      <td>2000</td>\n",
       "      <td>nelson dewey unit 2</td>\n",
       "      <td>waste</td>\n",
       "      <td>ton</td>\n",
       "      <td>39.0</td>\n",
       "      <td>0.015500</td>\n",
       "      <td>-276.080</td>\n",
       "      <td>-174.670</td>\n",
       "      <td>-8.906</td>\n",
       "    </tr>\n",
       "    <tr>\n",
       "      <th>7736</th>\n",
       "      <td>f1_fuel_2000_12_194_3_6</td>\n",
       "      <td>194</td>\n",
       "      <td>2000</td>\n",
       "      <td>nelson dewey u 1&amp;2</td>\n",
       "      <td>waste</td>\n",
       "      <td>ton</td>\n",
       "      <td>116.0</td>\n",
       "      <td>0.015500</td>\n",
       "      <td>-174.670</td>\n",
       "      <td>-174.670</td>\n",
       "      <td>-5.635</td>\n",
       "    </tr>\n",
       "    <tr>\n",
       "      <th>12975</th>\n",
       "      <td>f1_fuel_2004_12_210_1_6</td>\n",
       "      <td>210</td>\n",
       "      <td>2004</td>\n",
       "      <td>sycamore</td>\n",
       "      <td>oil</td>\n",
       "      <td>bbl</td>\n",
       "      <td>588.0</td>\n",
       "      <td>5.712420</td>\n",
       "      <td>38.722</td>\n",
       "      <td>-313.410</td>\n",
       "      <td>6.779</td>\n",
       "    </tr>\n",
       "    <tr>\n",
       "      <th>16634</th>\n",
       "      <td>f1_fuel_2007_12_177_2_4</td>\n",
       "      <td>177</td>\n",
       "      <td>2007</td>\n",
       "      <td>mexico c.t.</td>\n",
       "      <td>oil</td>\n",
       "      <td>bbl</td>\n",
       "      <td>2240.0</td>\n",
       "      <td>5.754000</td>\n",
       "      <td>77.605</td>\n",
       "      <td>-488.054</td>\n",
       "      <td>13.487</td>\n",
       "    </tr>\n",
       "    <tr>\n",
       "      <th>17525</th>\n",
       "      <td>f1_fuel_2008_12_177_1_1</td>\n",
       "      <td>177</td>\n",
       "      <td>2008</td>\n",
       "      <td>mexico c.t.</td>\n",
       "      <td>oil</td>\n",
       "      <td>bbl</td>\n",
       "      <td>811.0</td>\n",
       "      <td>5.754000</td>\n",
       "      <td>86.628</td>\n",
       "      <td>-874.937</td>\n",
       "      <td>15.055</td>\n",
       "    </tr>\n",
       "  </tbody>\n",
       "</table>\n",
       "<p>29523 rows × 11 columns</p>\n",
       "</div>"
      ],
      "text/plain": [
       "                     record_id  utility_id_ferc1  report_year  \\\n",
       "3564     f1_fuel_1997_12_9_0_8                 9         1997   \n",
       "3244     f1_fuel_1996_12_9_0_8                 9         1996   \n",
       "3565    f1_fuel_1997_12_9_0_11                 9         1997   \n",
       "3245    f1_fuel_1996_12_9_0_14                 9         1996   \n",
       "3566    f1_fuel_1997_12_9_0_14                 9         1997   \n",
       "...                        ...               ...          ...   \n",
       "7733   f1_fuel_2000_12_194_3_3               194         2000   \n",
       "7736   f1_fuel_2000_12_194_3_6               194         2000   \n",
       "12975  f1_fuel_2004_12_210_1_6               210         2004   \n",
       "16634  f1_fuel_2007_12_177_2_4               177         2007   \n",
       "17525  f1_fuel_2008_12_177_1_1               177         2008   \n",
       "\n",
       "          plant_name_ferc1 fuel_type_code_pudl fuel_unit  fuel_qty_burned  \\\n",
       "3564          peach bt 2&3             nuclear    gramsU         210474.0   \n",
       "3244          peach bt 2&3             nuclear    gramsU         211407.0   \n",
       "3565             salem 1&2             nuclear    gramsU          36919.0   \n",
       "3245          hope creek 1             nuclear    gramsU          58795.0   \n",
       "3566          hope creek 1             nuclear    gramsU          52526.0   \n",
       "...                    ...                 ...       ...              ...   \n",
       "7733   nelson dewey unit 2               waste       ton             39.0   \n",
       "7736    nelson dewey u 1&2               waste       ton            116.0   \n",
       "12975             sycamore                 oil       bbl            588.0   \n",
       "16634          mexico c.t.                 oil       bbl           2240.0   \n",
       "17525          mexico c.t.                 oil       bbl            811.0   \n",
       "\n",
       "       fuel_mmbtu_per_unit  fuel_cost_per_unit_burned  \\\n",
       "3564              0.000065                     37.847   \n",
       "3244              0.000065                     36.865   \n",
       "3565              0.000056                     61.100   \n",
       "3245              0.000065                     35.964   \n",
       "3566              0.000066                     39.660   \n",
       "...                    ...                        ...   \n",
       "7733              0.015500                   -276.080   \n",
       "7736              0.015500                   -174.670   \n",
       "12975             5.712420                     38.722   \n",
       "16634             5.754000                     77.605   \n",
       "17525             5.754000                     86.628   \n",
       "\n",
       "       fuel_cost_per_unit_delivered  fuel_cost_per_mmbtu  \n",
       "3564                    7964521.000                0.578  \n",
       "3244                    7793482.000                0.145  \n",
       "3565                    2255688.000                1.087  \n",
       "3245                    2114508.000                0.095  \n",
       "3566                    1942979.000                0.560  \n",
       "...                             ...                  ...  \n",
       "7733                       -174.670               -8.906  \n",
       "7736                       -174.670               -5.635  \n",
       "12975                      -313.410                6.779  \n",
       "16634                      -488.054               13.487  \n",
       "17525                      -874.937               15.055  \n",
       "\n",
       "[29523 rows x 11 columns]"
      ]
     },
     "execution_count": 66,
     "metadata": {},
     "output_type": "execute_result"
    }
   ],
   "source": [
    "# Which year has the highest average fuel cost per unit delivered?\n",
    "fuel_df.sort_values([ 'fuel_cost_per_unit_delivered', 'report_year'], ascending=False)"
   ]
  },
  {
   "cell_type": "code",
   "execution_count": null,
   "metadata": {},
   "outputs": [],
   "source": []
  }
 ],
 "metadata": {
  "kernelspec": {
   "display_name": "Python 3",
   "language": "python",
   "name": "python3"
  },
  "language_info": {
   "codemirror_mode": {
    "name": "ipython",
    "version": 3
   },
   "file_extension": ".py",
   "mimetype": "text/x-python",
   "name": "python",
   "nbconvert_exporter": "python",
   "pygments_lexer": "ipython3",
   "version": "3.8.1"
  }
 },
 "nbformat": 4,
 "nbformat_minor": 4
}
