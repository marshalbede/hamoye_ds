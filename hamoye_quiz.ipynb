```python
import pandas as pd
import numpy as np
```


```python
fuel_df = pd.read_csv("fuel_ferc1.csv")
```


```python
fuel_df.head()
```




<div>
<style scoped>
    .dataframe tbody tr th:only-of-type {
        vertical-align: middle;
    }

    .dataframe tbody tr th {
        vertical-align: top;
    }

    .dataframe thead th {
        text-align: right;
    }
</style>
<table border="1" class="dataframe">
  <thead>
    <tr style="text-align: right;">
      <th></th>
      <th>record_id</th>
      <th>utility_id_ferc1</th>
      <th>report_year</th>
      <th>plant_name_ferc1</th>
      <th>fuel_type_code_pudl</th>
      <th>fuel_unit</th>
      <th>fuel_qty_burned</th>
      <th>fuel_mmbtu_per_unit</th>
      <th>fuel_cost_per_unit_burned</th>
      <th>fuel_cost_per_unit_delivered</th>
      <th>fuel_cost_per_mmbtu</th>
    </tr>
  </thead>
  <tbody>
    <tr>
      <th>0</th>
      <td>f1_fuel_1994_12_1_0_7</td>
      <td>1</td>
      <td>1994</td>
      <td>rockport</td>
      <td>coal</td>
      <td>ton</td>
      <td>5377489.0</td>
      <td>16.590</td>
      <td>18.59</td>
      <td>18.53</td>
      <td>1.121</td>
    </tr>
    <tr>
      <th>1</th>
      <td>f1_fuel_1994_12_1_0_10</td>
      <td>1</td>
      <td>1994</td>
      <td>rockport total plant</td>
      <td>coal</td>
      <td>ton</td>
      <td>10486945.0</td>
      <td>16.592</td>
      <td>18.58</td>
      <td>18.53</td>
      <td>1.120</td>
    </tr>
    <tr>
      <th>2</th>
      <td>f1_fuel_1994_12_2_0_1</td>
      <td>2</td>
      <td>1994</td>
      <td>gorgas</td>
      <td>coal</td>
      <td>ton</td>
      <td>2978683.0</td>
      <td>24.130</td>
      <td>39.72</td>
      <td>38.12</td>
      <td>1.650</td>
    </tr>
    <tr>
      <th>3</th>
      <td>f1_fuel_1994_12_2_0_7</td>
      <td>2</td>
      <td>1994</td>
      <td>barry</td>
      <td>coal</td>
      <td>ton</td>
      <td>3739484.0</td>
      <td>23.950</td>
      <td>47.21</td>
      <td>45.99</td>
      <td>1.970</td>
    </tr>
    <tr>
      <th>4</th>
      <td>f1_fuel_1994_12_2_0_10</td>
      <td>2</td>
      <td>1994</td>
      <td>chickasaw</td>
      <td>gas</td>
      <td>mcf</td>
      <td>40533.0</td>
      <td>1.000</td>
      <td>2.77</td>
      <td>2.77</td>
      <td>2.570</td>
    </tr>
  </tbody>
</table>
</div>




```python
# To check the fuel type code has the lowest average fuel cost per unit burned?
fuel_df.sort_values(['fuel_cost_per_unit_burned'], ascending=1)[['fuel_cost_per_unit_burned', 'fuel_type_code_pudl']]
```




<div>
<style scoped>
    .dataframe tbody tr th:only-of-type {
        vertical-align: middle;
    }

    .dataframe tbody tr th {
        vertical-align: top;
    }

    .dataframe thead th {
        text-align: right;
    }
</style>
<table border="1" class="dataframe">
  <thead>
    <tr style="text-align: right;">
      <th></th>
      <th>fuel_cost_per_unit_burned</th>
      <th>fuel_type_code_pudl</th>
    </tr>
  </thead>
  <tbody>
    <tr>
      <th>7733</th>
      <td>-276.080</td>
      <td>waste</td>
    </tr>
    <tr>
      <th>7736</th>
      <td>-174.670</td>
      <td>waste</td>
    </tr>
    <tr>
      <th>7730</th>
      <td>-123.310</td>
      <td>waste</td>
    </tr>
    <tr>
      <th>11242</th>
      <td>-119.040</td>
      <td>other</td>
    </tr>
    <tr>
      <th>2123</th>
      <td>-85.760</td>
      <td>waste</td>
    </tr>
    <tr>
      <th>...</th>
      <td>...</td>
      <td>...</td>
    </tr>
    <tr>
      <th>22991</th>
      <td>65137.588</td>
      <td>nuclear</td>
    </tr>
    <tr>
      <th>21483</th>
      <td>69785.215</td>
      <td>nuclear</td>
    </tr>
    <tr>
      <th>24577</th>
      <td>80459.000</td>
      <td>oil</td>
    </tr>
    <tr>
      <th>20719</th>
      <td>83538.000</td>
      <td>oil</td>
    </tr>
    <tr>
      <th>25127</th>
      <td>139358.000</td>
      <td>oil</td>
    </tr>
  </tbody>
</table>
<p>29523 rows × 2 columns</p>
</div>




```python
fuel_mmbtu_per_unit = np.array(fuel_df.fuel_mmbtu_per_unit)
```


```python
fuel_mmbtu_per_unit
```




    array([16.59 , 16.592, 24.13 , ...,  1.06 , 16.108,  1.059])




```python
standard_dev_fuel_mmbtu_per_unit = np.std(fuel_mmbtu_per_unit)
```


```python
print(standard_dev_fuel_mmbtu_per_unit)
```

    10.600040781503973



```python
perc_75 = np.percentile(fuel_mmbtu_per_unit, 75)
```


```python
perc_75
```




    17.006




```python
# dataframe skewness
fuel_df.skew(axis=0, skipna=True)
```




    utility_id_ferc1                  0.605070
    report_year                       0.006953
    fuel_qty_burned                  15.851495
    fuel_mmbtu_per_unit               4.135217
    fuel_cost_per_unit_burned        19.787440
    fuel_cost_per_unit_delivered    105.014227
    fuel_cost_per_mmbtu             171.675535
    dtype: float64




```python
# dataframe kurtosis
fuel_df.kurtosis(axis=0, skipna=True)
```




    utility_id_ferc1                    1.088432
    report_year                        -1.145656
    fuel_qty_burned                   651.369450
    fuel_mmbtu_per_unit                55.595695
    fuel_cost_per_unit_burned         485.255851
    fuel_cost_per_unit_delivered    11765.054226
    fuel_cost_per_mmbtu             29489.132594
    dtype: float64




```python
# Missing values
fuel_df.isna().sum()
```




    record_id                         0
    utility_id_ferc1                  0
    report_year                       0
    plant_name_ferc1                  0
    fuel_type_code_pudl               0
    fuel_unit                       180
    fuel_qty_burned                   0
    fuel_mmbtu_per_unit               0
    fuel_cost_per_unit_burned         0
    fuel_cost_per_unit_delivered      0
    fuel_cost_per_mmbtu               0
    dtype: int64




```python
no_of_rows = fuel_df.shape[0]
```


```python
# calculate percentage of missing values
(180/no_of_rows)*100
```




    0.609694136774718




```python
# check datatype for fuel_unit: the missing value's container
fuel_df.fuel_unit.dtypes
```




    dtype('O')




```python
fuel_df.corr()
```




<div>
<style scoped>
    .dataframe tbody tr th:only-of-type {
        vertical-align: middle;
    }

    .dataframe tbody tr th {
        vertical-align: top;
    }

    .dataframe thead th {
        text-align: right;
    }
</style>
<table border="1" class="dataframe">
  <thead>
    <tr style="text-align: right;">
      <th></th>
      <th>utility_id_ferc1</th>
      <th>report_year</th>
      <th>fuel_qty_burned</th>
      <th>fuel_mmbtu_per_unit</th>
      <th>fuel_cost_per_unit_burned</th>
      <th>fuel_cost_per_unit_delivered</th>
      <th>fuel_cost_per_mmbtu</th>
    </tr>
  </thead>
  <tbody>
    <tr>
      <th>utility_id_ferc1</th>
      <td>1.000000</td>
      <td>0.093323</td>
      <td>-0.057447</td>
      <td>-0.066946</td>
      <td>-0.037863</td>
      <td>-0.016414</td>
      <td>0.006122</td>
    </tr>
    <tr>
      <th>report_year</th>
      <td>0.093323</td>
      <td>1.000000</td>
      <td>0.012952</td>
      <td>-0.110853</td>
      <td>0.013599</td>
      <td>-0.014043</td>
      <td>0.010261</td>
    </tr>
    <tr>
      <th>fuel_qty_burned</th>
      <td>-0.057447</td>
      <td>0.012952</td>
      <td>1.000000</td>
      <td>-0.080946</td>
      <td>-0.018535</td>
      <td>-0.003551</td>
      <td>-0.001896</td>
    </tr>
    <tr>
      <th>fuel_mmbtu_per_unit</th>
      <td>-0.066946</td>
      <td>-0.110853</td>
      <td>-0.080946</td>
      <td>1.000000</td>
      <td>-0.010034</td>
      <td>-0.009039</td>
      <td>-0.005884</td>
    </tr>
    <tr>
      <th>fuel_cost_per_unit_burned</th>
      <td>-0.037863</td>
      <td>0.013599</td>
      <td>-0.018535</td>
      <td>-0.010034</td>
      <td>1.000000</td>
      <td>0.011007</td>
      <td>-0.000437</td>
    </tr>
    <tr>
      <th>fuel_cost_per_unit_delivered</th>
      <td>-0.016414</td>
      <td>-0.014043</td>
      <td>-0.003551</td>
      <td>-0.009039</td>
      <td>0.011007</td>
      <td>1.000000</td>
      <td>-0.000109</td>
    </tr>
    <tr>
      <th>fuel_cost_per_mmbtu</th>
      <td>0.006122</td>
      <td>0.010261</td>
      <td>-0.001896</td>
      <td>-0.005884</td>
      <td>-0.000437</td>
      <td>-0.000109</td>
      <td>1.000000</td>
    </tr>
  </tbody>
</table>
</div>




```python
0.011007 > 0.013599
```




    False




```python
-0.000437 > -0.037863
```




    True




```python
highest_average = fuel_df.fuel_cost_per_unit_delivered.max()
```


```python
# Which year has the highest average fuel cost per unit delivered?
fuel_df.sort_values([ 'fuel_cost_per_unit_delivered', 'report_year'], ascending=False)
```




<div>
<style scoped>
    .dataframe tbody tr th:only-of-type {
        vertical-align: middle;
    }

    .dataframe tbody tr th {
        vertical-align: top;
    }

    .dataframe thead th {
        text-align: right;
    }
</style>
<table border="1" class="dataframe">
  <thead>
    <tr style="text-align: right;">
      <th></th>
      <th>record_id</th>
      <th>utility_id_ferc1</th>
      <th>report_year</th>
      <th>plant_name_ferc1</th>
      <th>fuel_type_code_pudl</th>
      <th>fuel_unit</th>
      <th>fuel_qty_burned</th>
      <th>fuel_mmbtu_per_unit</th>
      <th>fuel_cost_per_unit_burned</th>
      <th>fuel_cost_per_unit_delivered</th>
      <th>fuel_cost_per_mmbtu</th>
    </tr>
  </thead>
  <tbody>
    <tr>
      <th>3564</th>
      <td>f1_fuel_1997_12_9_0_8</td>
      <td>9</td>
      <td>1997</td>
      <td>peach bt 2&amp;3</td>
      <td>nuclear</td>
      <td>gramsU</td>
      <td>210474.0</td>
      <td>0.000065</td>
      <td>37.847</td>
      <td>7964521.000</td>
      <td>0.578</td>
    </tr>
    <tr>
      <th>3244</th>
      <td>f1_fuel_1996_12_9_0_8</td>
      <td>9</td>
      <td>1996</td>
      <td>peach bt 2&amp;3</td>
      <td>nuclear</td>
      <td>gramsU</td>
      <td>211407.0</td>
      <td>0.000065</td>
      <td>36.865</td>
      <td>7793482.000</td>
      <td>0.145</td>
    </tr>
    <tr>
      <th>3565</th>
      <td>f1_fuel_1997_12_9_0_11</td>
      <td>9</td>
      <td>1997</td>
      <td>salem 1&amp;2</td>
      <td>nuclear</td>
      <td>gramsU</td>
      <td>36919.0</td>
      <td>0.000056</td>
      <td>61.100</td>
      <td>2255688.000</td>
      <td>1.087</td>
    </tr>
    <tr>
      <th>3245</th>
      <td>f1_fuel_1996_12_9_0_14</td>
      <td>9</td>
      <td>1996</td>
      <td>hope creek 1</td>
      <td>nuclear</td>
      <td>gramsU</td>
      <td>58795.0</td>
      <td>0.000065</td>
      <td>35.964</td>
      <td>2114508.000</td>
      <td>0.095</td>
    </tr>
    <tr>
      <th>3566</th>
      <td>f1_fuel_1997_12_9_0_14</td>
      <td>9</td>
      <td>1997</td>
      <td>hope creek 1</td>
      <td>nuclear</td>
      <td>gramsU</td>
      <td>52526.0</td>
      <td>0.000066</td>
      <td>39.660</td>
      <td>1942979.000</td>
      <td>0.560</td>
    </tr>
    <tr>
      <th>...</th>
      <td>...</td>
      <td>...</td>
      <td>...</td>
      <td>...</td>
      <td>...</td>
      <td>...</td>
      <td>...</td>
      <td>...</td>
      <td>...</td>
      <td>...</td>
      <td>...</td>
    </tr>
    <tr>
      <th>7733</th>
      <td>f1_fuel_2000_12_194_3_3</td>
      <td>194</td>
      <td>2000</td>
      <td>nelson dewey unit 2</td>
      <td>waste</td>
      <td>ton</td>
      <td>39.0</td>
      <td>0.015500</td>
      <td>-276.080</td>
      <td>-174.670</td>
      <td>-8.906</td>
    </tr>
    <tr>
      <th>7736</th>
      <td>f1_fuel_2000_12_194_3_6</td>
      <td>194</td>
      <td>2000</td>
      <td>nelson dewey u 1&amp;2</td>
      <td>waste</td>
      <td>ton</td>
      <td>116.0</td>
      <td>0.015500</td>
      <td>-174.670</td>
      <td>-174.670</td>
      <td>-5.635</td>
    </tr>
    <tr>
      <th>12975</th>
      <td>f1_fuel_2004_12_210_1_6</td>
      <td>210</td>
      <td>2004</td>
      <td>sycamore</td>
      <td>oil</td>
      <td>bbl</td>
      <td>588.0</td>
      <td>5.712420</td>
      <td>38.722</td>
      <td>-313.410</td>
      <td>6.779</td>
    </tr>
    <tr>
      <th>16634</th>
      <td>f1_fuel_2007_12_177_2_4</td>
      <td>177</td>
      <td>2007</td>
      <td>mexico c.t.</td>
      <td>oil</td>
      <td>bbl</td>
      <td>2240.0</td>
      <td>5.754000</td>
      <td>77.605</td>
      <td>-488.054</td>
      <td>13.487</td>
    </tr>
    <tr>
      <th>17525</th>
      <td>f1_fuel_2008_12_177_1_1</td>
      <td>177</td>
      <td>2008</td>
      <td>mexico c.t.</td>
      <td>oil</td>
      <td>bbl</td>
      <td>811.0</td>
      <td>5.754000</td>
      <td>86.628</td>
      <td>-874.937</td>
      <td>15.055</td>
    </tr>
  </tbody>
</table>
<p>29523 rows × 11 columns</p>
</div>




```python

```
